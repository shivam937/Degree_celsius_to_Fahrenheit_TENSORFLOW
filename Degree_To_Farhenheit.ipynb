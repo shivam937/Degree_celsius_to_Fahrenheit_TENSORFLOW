{
 "cells": [
  {
   "cell_type": "code",
   "execution_count": 2,
   "id": "8febd609-9e98-42ba-82af-8a9a7652a574",
   "metadata": {},
   "outputs": [],
   "source": [
    "#import necessary libraries\n",
    "import tensorflow as tf\n",
    "import numpy as np"
   ]
  },
  {
   "cell_type": "code",
   "execution_count": 3,
   "id": "663d362e-1846-471e-8cf1-549d14eca3b8",
   "metadata": {},
   "outputs": [
    {
     "name": "stdout",
     "output_type": "stream",
     "text": [
      "[-40. -10.   0.   8.  15.  22.]\n",
      "[-40.  14.  32.  46.  59.  72.]\n"
     ]
    }
   ],
   "source": [
    "celsius = np.array([-40, -10, 0, 8, 15, 22], dtype = 'float')\n",
    "fahrenheit = np.array([-40, 14, 32, 46, 59, 72], dtype = 'float')\n",
    "print(celsius)\n",
    "print(fahrenheit)"
   ]
  },
  {
   "cell_type": "code",
   "execution_count": 4,
   "id": "e99cbeb6-c350-456b-8608-d361adc524d0",
   "metadata": {},
   "outputs": [
    {
     "name": "stdout",
     "output_type": "stream",
     "text": [
      "-40.0 degree celsius = -40.0 degree fahrenheit\n",
      "-10.0 degree celsius = 14.0 degree fahrenheit\n",
      "0.0 degree celsius = 32.0 degree fahrenheit\n",
      "8.0 degree celsius = 46.0 degree fahrenheit\n",
      "15.0 degree celsius = 59.0 degree fahrenheit\n",
      "22.0 degree celsius = 72.0 degree fahrenheit\n"
     ]
    }
   ],
   "source": [
    "for i,c in enumerate(celsius):\n",
    "    print('{} degree celsius = {} degree fahrenheit'.format(c, fahrenheit[i]))"
   ]
  },
  {
   "cell_type": "code",
   "execution_count": 5,
   "id": "2e756ad7-458d-45c1-add9-1f7fd0348db3",
   "metadata": {},
   "outputs": [],
   "source": [
    "# create a model\n",
    "l0 = tf.keras.layers.Dense(units = 1, input_shape = [1])\n",
    "model = tf.keras.Sequential([l0])"
   ]
  },
  {
   "cell_type": "code",
   "execution_count": 6,
   "id": "2116b8ff-4bfc-42f5-85f5-c47dc2730f2a",
   "metadata": {},
   "outputs": [],
   "source": [
    "# compile the model with loss and optimizer function\n",
    "model.compile(loss = 'mean_squared_error', \n",
    "              optimizer = tf.keras.optimizers.Adam(0.1))"
   ]
  },
  {
   "cell_type": "code",
   "execution_count": 7,
   "id": "e867087f-9135-42b9-84ed-e4555bea3d13",
   "metadata": {},
   "outputs": [
    {
     "name": "stdout",
     "output_type": "stream",
     "text": [
      "Finished traning the model\n"
     ]
    }
   ],
   "source": [
    "# train the model\n",
    "history = model.fit(celsius, fahrenheit, epochs = 500, verbose = False)\n",
    "print('Finished traning the model')"
   ]
  },
  {
   "cell_type": "code",
   "execution_count": 8,
   "id": "c92c3bd2-75dd-4213-9200-b0b13707f9b6",
   "metadata": {},
   "outputs": [
    {
     "data": {
      "text/plain": [
       "[<matplotlib.lines.Line2D at 0x20442af4340>]"
      ]
     },
     "execution_count": 8,
     "metadata": {},
     "output_type": "execute_result"
    },
    {
     "data": {
      "image/png": "[encoded data removed]",
      "text/plain": [
       "<Figure size 640x480 with 1 Axes>"
      ]
     },
     "metadata": {},
     "output_type": "display_data"
    }
   ],
   "source": [
    "# display traning statistics:\n",
    "import matplotlib.pyplot as plt\n",
    "plt.xlabel('Epochs counts')\n",
    "plt.ylabel('loss magnitude')\n",
    "plt.plot(history.history['loss'])"
   ]
  },
  {
   "cell_type": "code",
   "execution_count": null,
   "id": "8dc7bc74-2836-4398-a562-4192e17cb07e",
   "metadata": {},
   "outputs": [],
   "source": [
    "# we can see loss magnitude almost 0 at 500 epochs"
   ]
  },
  {
   "cell_type": "code",
   "execution_count": 10,
   "id": "aa3cb133-64db-462a-aa60-4e47081fdd77",
   "metadata": {},
   "outputs": [
    {
     "name": "stdout",
     "output_type": "stream",
     "text": [
      "1/1 [==============================] - 0s 118ms/step\n",
      "[[209.08426]]\n"
     ]
    }
   ],
   "source": [
    "# use model to predict values\n",
    "print(model.predict([100]))"
   ]
  },
  {
   "cell_type": "code",
   "execution_count": null,
   "id": "6f1459ba-e8bd-45ee-8ac1-90a4ed2d3c95",
   "metadata": {},
   "outputs": [],
   "source": [
    "# 209 almost equals to 212\n",
    "# our model isdoing great"
   ]
  },
  {
   "cell_type": "code",
   "execution_count": 11,
   "id": "f62f56b1-cb94-4e05-b704-b137ccf84a5c",
   "metadata": {},
   "outputs": [
    {
     "name": "stdout",
     "output_type": "stream",
     "text": [
      "These are the layers variables: [array([[1.796937]], dtype=float32), array([29.390568], dtype=float32)]\n"
     ]
    }
   ],
   "source": [
    "# looking at the layer weights:\n",
    "print('These are the layers variables: {}'.format(l0.get_weights()))"
   ]
  },
  {
   "cell_type": "code",
   "execution_count": null,
   "id": "6a7992c9-d215-47fb-b4ff-aa5868e29ea6",
   "metadata": {},
   "outputs": [],
   "source": [
    "# f = 1.8*c + 32  actualformula\n",
    "# we got for f = w1*c + b\n",
    "#w1 = 1.79 which equals to 1.8\n",
    "#b = 29.39 which wquals to 32"
   ]
  },
  {
   "cell_type": "code",
   "execution_count": null,
   "id": "20feb932-1b50-4bbe-9049-f9e15d630010",
   "metadata": {},
   "outputs": [],
   "source": []
  },
  {
   "cell_type": "code",
   "execution_count": null,
   "id": "914059fe-d5df-4484-91de-a1595444fb86",
   "metadata": {},
   "outputs": [],
   "source": []
  }
 ],
 "metadata": {
  "kernelspec": {
   "display_name": "Python 3 (ipykernel)",
   "language": "python",
   "name": "python3"
  },
  "language_info": {
   "codemirror_mode": {
    "name": "ipython",
    "version": 3
   },
   "file_extension": ".py",
   "mimetype": "text/x-python",
   "name": "python",
   "nbconvert_exporter": "python",
   "pygments_lexer": "ipython3",
   "version": "3.9.18"
  }
 },
 "nbformat": 4,
 "nbformat_minor": 5
}
